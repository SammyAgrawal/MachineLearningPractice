{
 "cells": [
  {
   "cell_type": "code",
   "execution_count": 103,
   "id": "734e17a9",
   "metadata": {},
   "outputs": [],
   "source": [
    "import numpy as np\n",
    "import pandas as pd\n",
    "import matplotlib.pyplot as plt"
   ]
  },
  {
   "cell_type": "code",
   "execution_count": 121,
   "id": "fd0dbe1a",
   "metadata": {},
   "outputs": [],
   "source": [
    "data = pd.read_excel('thing.xlsx')\n",
    "data"
   ]
  },
  {
   "cell_type": "code",
   "execution_count": 123,
   "id": "1784615a",
   "metadata": {},
   "outputs": [],
   "source": [
    "Xs = data['x1 x2 x3 x4'.split()]\n",
    "y = data['y']\n",
    "m,n = Xs.shape"
   ]
  },
  {
   "cell_type": "code",
   "execution_count": 124,
   "id": "49ec9fc1",
   "metadata": {},
   "outputs": [],
   "source": [
    "thetas = np.ones(n)"
   ]
  },
  {
   "cell_type": "code",
   "execution_count": 125,
   "id": "91e3e80b",
   "metadata": {},
   "outputs": [],
   "source": [
    "def h(x):\n",
    "    return np.dot(thetas, x)"
   ]
  },
  {
   "cell_type": "code",
   "execution_count": 126,
   "id": "28e6b59f",
   "metadata": {},
   "outputs": [],
   "source": [
    "def J(X=Xs, theta=thetas, y=data['y']):\n",
    "    cost = 0\n",
    "    for i in range(m):\n",
    "        hypo = h(np.array(Xs.iloc[i]))\n",
    "        cost += (hypo - y[i])**2\n",
    "    return cost/(2*m)"
   ]
  },
  {
   "cell_type": "code",
   "execution_count": 143,
   "id": "d27f0dd8",
   "metadata": {},
   "outputs": [],
   "source": [
    "Js = []\n",
    "thetas = np.ones(n)\n",
    "num_iters = 1000\n",
    "alpha = 0.01\n",
    "for iteration in range(num_iters):\n",
    "    Js.append(J())\n",
    "    for j in range(n):\n",
    "        del_J = 0\n",
    "        for i in range(m):\n",
    "            hypo = h(np.array(Xs.iloc[i]))\n",
    "            del_J += (hypo - y[i])*Xs.iloc[i,j]\n",
    "        del_J = del_J/m\n",
    "        thetas[j] -= alpha*del_J\n",
    "    \"\"\"epsilon = Js[-1] - J()\n",
    "    if epsilon<0.001:\n",
    "        print(iteration, epsilon)\n",
    "        break\"\"\""
   ]
  },
  {
   "cell_type": "code",
   "execution_count": 144,
   "id": "203fb08f",
   "metadata": {},
   "outputs": [
    {
     "data": {
      "text/plain": [
       "5.036127868957982e-17"
      ]
     },
     "execution_count": 144,
     "metadata": {},
     "output_type": "execute_result"
    }
   ],
   "source": [
    "J()"
   ]
  },
  {
   "cell_type": "code",
   "execution_count": 145,
   "id": "922d123e",
   "metadata": {
    "scrolled": true
   },
   "outputs": [
    {
     "data": {
      "text/plain": [
       "array([0.32      , 1.02999999, 0.73      , 0.48      ])"
      ]
     },
     "execution_count": 145,
     "metadata": {},
     "output_type": "execute_result"
    }
   ],
   "source": [
    "thetas"
   ]
  },
  {
   "cell_type": "code",
   "execution_count": 146,
   "id": "f8e5f9d2",
   "metadata": {},
   "outputs": [],
   "source": [
    "predictions = np.array([h(np.array(Xs.iloc[i])) for i in range(m)])"
   ]
  },
  {
   "cell_type": "code",
   "execution_count": 147,
   "id": "f5abd88e",
   "metadata": {},
   "outputs": [],
   "source": [
    "data['Predict'] = predictions"
   ]
  },
  {
   "cell_type": "code",
   "execution_count": 148,
   "id": "2197047d",
   "metadata": {},
   "outputs": [
    {
     "data": {
      "text/plain": [
       "5.036127868957982e-17"
      ]
     },
     "execution_count": 148,
     "metadata": {},
     "output_type": "execute_result"
    }
   ],
   "source": [
    "delta = np.array(data['Predict'] - data['y']) \n",
    "np.dot(delta,delta) / (2*m)"
   ]
  },
  {
   "cell_type": "code",
   "execution_count": 149,
   "id": "ca15150a",
   "metadata": {},
   "outputs": [
    {
     "data": {
      "text/plain": [
       "[<matplotlib.lines.Line2D at 0x7f8499c16c40>]"
      ]
     },
     "execution_count": 149,
     "metadata": {},
     "output_type": "execute_result"
    },
    {
     "data": {
      "image/png": "[encoded data removed]",
      "text/plain": [
       "<Figure size 432x288 with 1 Axes>"
      ]
     },
     "metadata": {
      "needs_background": "light"
     },
     "output_type": "display_data"
    }
   ],
   "source": [
    "plt.plot(Js)"
   ]
  },
  {
   "cell_type": "code",
   "execution_count": 142,
   "id": "67ee4008",
   "metadata": {},
   "outputs": [
    {
     "data": {
      "text/html": [
       "<div>\n",
       "<style scoped>\n",
       "    .dataframe tbody tr th:only-of-type {\n",
       "        vertical-align: middle;\n",
       "    }\n",
       "\n",
       "    .dataframe tbody tr th {\n",
       "        vertical-align: top;\n",
       "    }\n",
       "\n",
       "    .dataframe thead th {\n",
       "        text-align: right;\n",
       "    }\n",
       "</style>\n",
       "<table border=\"1\" class=\"dataframe\">\n",
       "  <thead>\n",
       "    <tr style=\"text-align: right;\">\n",
       "      <th></th>\n",
       "      <th>x1</th>\n",
       "      <th>x2</th>\n",
       "      <th>x3</th>\n",
       "      <th>x4</th>\n",
       "      <th>y</th>\n",
       "      <th>Predict</th>\n",
       "    </tr>\n",
       "  </thead>\n",
       "  <tbody>\n",
       "    <tr>\n",
       "      <th>0</th>\n",
       "      <td>1.4</td>\n",
       "      <td>6.2</td>\n",
       "      <td>4.2</td>\n",
       "      <td>7.4</td>\n",
       "      <td>13.452</td>\n",
       "      <td>13.416218</td>\n",
       "    </tr>\n",
       "    <tr>\n",
       "      <th>1</th>\n",
       "      <td>6.2</td>\n",
       "      <td>2.4</td>\n",
       "      <td>8.9</td>\n",
       "      <td>1.1</td>\n",
       "      <td>11.481</td>\n",
       "      <td>11.446064</td>\n",
       "    </tr>\n",
       "    <tr>\n",
       "      <th>2</th>\n",
       "      <td>2.3</td>\n",
       "      <td>8.4</td>\n",
       "      <td>9.4</td>\n",
       "      <td>4.6</td>\n",
       "      <td>18.458</td>\n",
       "      <td>18.238758</td>\n",
       "    </tr>\n",
       "    <tr>\n",
       "      <th>3</th>\n",
       "      <td>5.2</td>\n",
       "      <td>2.1</td>\n",
       "      <td>7.3</td>\n",
       "      <td>6.3</td>\n",
       "      <td>12.180</td>\n",
       "      <td>12.448088</td>\n",
       "    </tr>\n",
       "    <tr>\n",
       "      <th>4</th>\n",
       "      <td>6.2</td>\n",
       "      <td>3.4</td>\n",
       "      <td>4.7</td>\n",
       "      <td>8.5</td>\n",
       "      <td>12.997</td>\n",
       "      <td>13.114192</td>\n",
       "    </tr>\n",
       "    <tr>\n",
       "      <th>5</th>\n",
       "      <td>7.4</td>\n",
       "      <td>2.3</td>\n",
       "      <td>1.1</td>\n",
       "      <td>5.7</td>\n",
       "      <td>8.276</td>\n",
       "      <td>8.128300</td>\n",
       "    </tr>\n",
       "  </tbody>\n",
       "</table>\n",
       "</div>"
      ],
      "text/plain": [
       "    x1   x2   x3   x4       y    Predict\n",
       "0  1.4  6.2  4.2  7.4  13.452  13.416218\n",
       "1  6.2  2.4  8.9  1.1  11.481  11.446064\n",
       "2  2.3  8.4  9.4  4.6  18.458  18.238758\n",
       "3  5.2  2.1  7.3  6.3  12.180  12.448088\n",
       "4  6.2  3.4  4.7  8.5  12.997  13.114192\n",
       "5  7.4  2.3  1.1  5.7   8.276   8.128300"
      ]
     },
     "execution_count": 142,
     "metadata": {},
     "output_type": "execute_result"
    }
   ],
   "source": [
    "data"
   ]
  },
  {
   "cell_type": "code",
   "execution_count": null,
   "id": "b09837c5",
   "metadata": {},
   "outputs": [],
   "source": []
  }
 ],
 "metadata": {
  "kernelspec": {
   "display_name": "Python 3 (ipykernel)",
   "language": "python",
   "name": "python3"
  },
  "language_info": {
   "codemirror_mode": {
    "name": "ipython",
    "version": 3
   },
   "file_extension": ".py",
   "mimetype": "text/x-python",
   "name": "python",
   "nbconvert_exporter": "python",
   "pygments_lexer": "ipython3",
   "version": "3.9.7"
  }
 },
 "nbformat": 4,
 "nbformat_minor": 5
}
