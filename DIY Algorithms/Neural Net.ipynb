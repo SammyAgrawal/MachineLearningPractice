{
 "cells": [
  {
   "cell_type": "code",
   "execution_count": 1,
   "id": "b977b2f3",
   "metadata": {},
   "outputs": [],
   "source": [
    "from math import exp, log"
   ]
  },
  {
   "cell_type": "code",
   "execution_count": 2,
   "id": "86376843",
   "metadata": {},
   "outputs": [],
   "source": [
    "import numpy as np"
   ]
  },
  {
   "cell_type": "code",
   "execution_count": 3,
   "id": "38598bfd",
   "metadata": {},
   "outputs": [],
   "source": [
    "def dot(M1, M2):\n",
    "    \"\"\"\n",
    "    Multiplies 2 matrices. \n",
    "    Args: M1, M2\n",
    "    Returns: M1 * M2\n",
    "    \"\"\"\n",
    "    assert len(M1[0])==len(M2), \"Size mismatch\"\n",
    "    \n",
    "    result = []\n",
    "    for i in range(len(M1)):\n",
    "        result.append([])\n",
    "        for j in range(len(M2[0])):\n",
    "            result[i].append(0)\n",
    "            for k in range(len(M2)):\n",
    "                result[i][j] += M1[i][k] * M2[k][j]\n",
    "    return result"
   ]
  },
  {
   "cell_type": "code",
   "execution_count": 4,
   "id": "f453ecc7",
   "metadata": {},
   "outputs": [],
   "source": [
    "def multiply(M1, M2):\n",
    "    \"\"\"\n",
    "    Matrix Element-Wise Multiplication\n",
    "    \n",
    "    \"\"\"\n",
    "    assert len(M1) == len(M2), \"Size not same on axis=0\"\n",
    "    assert len(M1[0]) == len(M2[0]), \"Size mismatch on axis=1\"\n",
    "    result = []\n",
    "    \n",
    "    for i in range(len(M1)):\n",
    "        result.append([])\n",
    "        for j in range(len(M1[0])):\n",
    "            result[i].append(M1[i][j] * M2[i][j])\n",
    "    return result"
   ]
  },
  {
   "cell_type": "code",
   "execution_count": 6,
   "id": "9d2b38b5",
   "metadata": {},
   "outputs": [],
   "source": [
    "class NeuralNetworkScratch:\n",
    "    def __init__(self, layers):\n",
    "        self.size = len(layers)\n",
    "        self.architecture = layers\n",
    "        self.layers = [[0]]\n",
    "        for i in range(self.size):\n",
    "            self.layers.append([])\n",
    "            #for j in range(self.architecture[i])\n",
    "            \n",
    "    \n",
    "    def sigmoid(self, mat):\n",
    "        for i in range(len(mat)):\n",
    "            for j in range(len(mat[0])):\n",
    "                mat[i][j] = 1.0 / (1 + exp(-1*mat[i][j]))\n",
    "        return mat\n",
    "    \n",
    "    def sigmoid_gradient(self, mat):\n",
    "        return (sigmoid(mat) * (1- sigmoid(mat)))\n",
    "    \n",
    "    def tanh(self, mat):\n",
    "        for i in range(len(mat)):\n",
    "            for j in range(len(mat[0])):\n",
    "                n = mat[i][j]\n",
    "                mat[i][j] = (exp(n) - exp(-1*n)) / (exp(n) + exp(-1*n))\n",
    "        return mat\n",
    "    \n",
    "        "
   ]
  },
  {
   "cell_type": "code",
   "execution_count": 165,
   "id": "42135759",
   "metadata": {},
   "outputs": [],
   "source": [
    "def load_planar_dataset():\n",
    "    np.random.seed(1)\n",
    "    m = 400 # number of examples\n",
    "    N = int(m/2) # number of points per class\n",
    "    D = 2 # dimensionality\n",
    "    X = np.zeros((m,D)) # data matrix where each row is a single example\n",
    "    Y = np.zeros((m,1), dtype='uint8') # labels vector (0 for red, 1 for blue)\n",
    "    a = 4 # maximum ray of the flower\n",
    "\n",
    "    for j in range(2):\n",
    "        ix = range(N*j,N*(j+1))\n",
    "        t = np.linspace(j*3.12,(j+1)*3.12,N) + np.random.randn(N)*0.2 # theta\n",
    "        r = a*np.sin(4*t) + np.random.randn(N)*0.2 # radius\n",
    "        X[ix] = np.c_[r*np.sin(t), r*np.cos(t)]\n",
    "        Y[ix] = j\n",
    "        \n",
    "    X = X.T\n",
    "    Y = Y.T\n",
    "\n",
    "    return X, Y\n",
    "X, Y = load_planar_dataset()"
   ]
  },
  {
   "cell_type": "code",
   "execution_count": null,
   "id": "efb820e3",
   "metadata": {},
   "outputs": [],
   "source": []
  },
  {
   "cell_type": "code",
   "execution_count": 194,
   "id": "3c0b2446",
   "metadata": {},
   "outputs": [],
   "source": [
    "class NeuralNetwork:\n",
    "    def __init__(self, layers, learning_rate=0.05):\n",
    "        self.size = len(layers)\n",
    "        self.architecture = np.array(layers)\n",
    "        self.layers = [np.zeros((size, 1)) for size in layers] # len = size\n",
    "        self.weights = [np.random.randn(layers[i+1], layers[i])/100 for i in range(self.size - 1)] # len = size-1\n",
    "        self.biases = [np.zeros((size,1)) for size in layers[1:]] # len = size - 1\n",
    "        \n",
    "        self.activations = [NeuralNetwork.tanh for i in range(self.size-2)] # len = size - 1\n",
    "        self.activations.append(NeuralNetwork.sigmoid)\n",
    "        \n",
    "        self.activation_map = {\n",
    "            NeuralNetwork.tanh : NeuralNetwork.tanh_prime,\n",
    "            NeuralNetwork.sigmoid : NeuralNetwork.sigmoid_prime\n",
    "        }\n",
    "        \n",
    "        self.alpha = learning_rate\n",
    "    \n",
    "    def forward_propagation(self, X, testing=False):\n",
    "        \"\"\"\n",
    "        Args: X; X is a n_x * m matrix, where n_x is architecture[0]\n",
    "        Updates self.layers with the calculated values\n",
    "        \"\"\"\n",
    "        self.layers[0] = X\n",
    "        if testing:\n",
    "            self.print_data()\n",
    "        for i in range(self.size - 1):\n",
    "            z = np.dot(self.weights[i], self.layers[i]) + self.biases[i]\n",
    "            self.layers[i+1] = self.activations[i](z)\n",
    "        return self.layers\n",
    "\n",
    "    def backpropagation(self, X, Y):\n",
    "        layers = self.forward_propagation(X)\n",
    "        m = Y.shape[-1]\n",
    "        grads_W = []\n",
    "        grads_B = []\n",
    "        dA = (self.layers[-1] - Y) / m # n_y * m; assumes last layer is sigmoid\n",
    "        for i in range(-2, -1*(self.size+1), -1):\n",
    "            # i runs from the second last layer to the first layer (-sizeth layer)\n",
    "            dW = np.dot(dA, self.layers[i].T)\n",
    "            dB = np.sum(dA, axis=1, keepdims=True)\n",
    "            \n",
    "            if(i > (-1 * self.size)): # only compute dA if within a hidden layer\n",
    "                dA = np.multiply(np.dot(self.weights[i+1].T, dA), self.activation_map[self.activations[i]](self.layers[i]))\n",
    "            grads_W.insert(0, dW) # add to beginning of array so that order is maintained forward to back\n",
    "            grads_B.insert(0, dB)\n",
    "        return(grads_W, grads_B)\n",
    "    \n",
    "    def train(self, X, Y, iterations=1000):\n",
    "        for i in range(iterations):\n",
    "            grads_W, grads_B = self.backpropagation(X, Y)\n",
    "            assert len(grads_W) == len(self.weights), \"Update size does not match\"\n",
    "            assert len(grads_B) == len(self.biases), \"Update size does not match\"\n",
    "            \n",
    "            for i in range(len(grads_W)):\n",
    "                self.weights[i] = self.weights[i] - self.alpha * grads_W[i]\n",
    "                self.biases[i] = self.biases[i] - self.alpha * grads_B[i]\n",
    "    \n",
    "    def print_data(self):\n",
    "        \"\"\"\n",
    "        Testing function, validate sizes of key variables\n",
    "        \"\"\"\n",
    "        print(\"Printing layer sizes\")\n",
    "        for i in self.layers:\n",
    "            print(i.shape)\n",
    "        print(\"\\nPrinting weight sizes\")\n",
    "        for i in self.weights:\n",
    "            print(i.shape)\n",
    "        print(\"\\nPrinting bias sizes\")\n",
    "        for i in self.biases:\n",
    "            print(i.shape)\n",
    "    \n",
    "    def predict(self, X):\n",
    "        hypo = self.forward_propagation(X)[-1]\n",
    "        threshold = 0\n",
    "        if(self.activations[-1] == NeuralNetwork.sigmoid):\n",
    "            threshold = 0.5\n",
    "        return (hypo > threshold).astype(int)\n",
    "    \n",
    "    def accuracy(self):\n",
    "        predictions = self.predict(self.layers[0])\n",
    "        assert predictions.shape == Y.shape, \"Size mismatch error\"\n",
    "        return 100*np.sum(predictions == Y) / Y.shape[1]\n",
    "        \n",
    "    \n",
    "    def sigmoid(mat):\n",
    "        return 1.0 / (1 + np.exp(-1*mat)) \n",
    "    \n",
    "    def sigmoid_prime(sig_mat):\n",
    "        # sig_mat = NeuralNetwork.sigmoid(mat)\n",
    "        return(sig_mat * (1 - sig_mat))     \n",
    "    \n",
    "    def tanh(mat):\n",
    "        return (np.exp(mat) - np.exp(-1*mat)) / ((np.exp(mat) + np.exp(-1*mat)))\n",
    "    \n",
    "    def tanh_prime(tanh_mat):\n",
    "        return(1 - np.multiply(tanh_mat,tanh_mat))\n",
    "    \n",
    "    def set_learning_rate(self, learning_rate):\n",
    "        self.alpha = learning_rate\n",
    "        \n",
    "    def set_activations(self, act):\n",
    "        self.activations = act\n",
    "    \n",
    "        "
   ]
  },
  {
   "cell_type": "code",
   "execution_count": 200,
   "id": "88f60f86",
   "metadata": {},
   "outputs": [],
   "source": [
    "X, Y = load_planar_dataset()\n",
    "Net = NeuralNetwork([X.shape[0], 4, Y.shape[0]])"
   ]
  },
  {
   "cell_type": "code",
   "execution_count": 201,
   "id": "0cb9d0ea",
   "metadata": {},
   "outputs": [],
   "source": [
    "Net.train(X, Y, 10000)"
   ]
  },
  {
   "cell_type": "code",
   "execution_count": 202,
   "id": "c0c44fef",
   "metadata": {},
   "outputs": [
    {
     "data": {
      "text/plain": [
       "(1, 400)"
      ]
     },
     "execution_count": 202,
     "metadata": {},
     "output_type": "execute_result"
    }
   ],
   "source": [
    "predictions = Net.predict(X)\n",
    "predictions.shape"
   ]
  },
  {
   "cell_type": "code",
   "execution_count": 203,
   "id": "69a5b5b1",
   "metadata": {},
   "outputs": [
    {
     "data": {
      "text/plain": [
       "89.0"
      ]
     },
     "execution_count": 203,
     "metadata": {},
     "output_type": "execute_result"
    }
   ],
   "source": [
    "np.sum(predictions == Y) / 4"
   ]
  },
  {
   "cell_type": "code",
   "execution_count": 212,
   "id": "8976a377",
   "metadata": {},
   "outputs": [
    {
     "data": {
      "text/plain": [
       "89.0"
      ]
     },
     "execution_count": 212,
     "metadata": {},
     "output_type": "execute_result"
    }
   ],
   "source": [
    "X1, Y1 = load_planar_dataset()\n",
    "np.sum(Net.predict(X1) == Y1) / 4"
   ]
  },
  {
   "cell_type": "code",
   "execution_count": 204,
   "id": "40b24847",
   "metadata": {
    "scrolled": true
   },
   "outputs": [
    {
     "data": {
      "text/plain": [
       "<matplotlib.collections.PathCollection at 0x7fcdd20a7c10>"
      ]
     },
     "execution_count": 204,
     "metadata": {},
     "output_type": "execute_result"
    },
    {
     "data": {
      "image/png": "[encoded data removed]",
      "text/plain": [
       "<Figure size 432x288 with 1 Axes>"
      ]
     },
     "metadata": {
      "needs_background": "light"
     },
     "output_type": "display_data"
    }
   ],
   "source": [
    "plt.scatter(X[0, :], X[1, :], c=predictions, cmap=plt.cm.Spectral)"
   ]
  },
  {
   "cell_type": "code",
   "execution_count": 106,
   "id": "8abd63e7",
   "metadata": {},
   "outputs": [
    {
     "ename": "ValueError",
     "evalue": "shapes (4,2) and (1038240,2) not aligned: 2 (dim 1) != 1038240 (dim 0)",
     "output_type": "error",
     "traceback": [
      "\u001b[0;31m---------------------------------------------------------------------------\u001b[0m",
      "\u001b[0;31mValueError\u001b[0m                                Traceback (most recent call last)",
      "\u001b[0;32m/var/folders/lc/mjy2_vc10zd7k8yny4sjghbr0000gn/T/ipykernel_31185/1604171128.py\u001b[0m in \u001b[0;36m<module>\u001b[0;34m\u001b[0m\n\u001b[1;32m     16\u001b[0m \u001b[0;34m\u001b[0m\u001b[0m\n\u001b[1;32m     17\u001b[0m \u001b[0;34m\u001b[0m\u001b[0m\n\u001b[0;32m---> 18\u001b[0;31m \u001b[0mplot_decision_boundary\u001b[0m\u001b[0;34m(\u001b[0m\u001b[0;32mlambda\u001b[0m \u001b[0mx\u001b[0m\u001b[0;34m:\u001b[0m \u001b[0mNet\u001b[0m\u001b[0;34m.\u001b[0m\u001b[0mpredict\u001b[0m\u001b[0;34m(\u001b[0m\u001b[0mx\u001b[0m\u001b[0;34m)\u001b[0m\u001b[0;34m,\u001b[0m \u001b[0mX\u001b[0m\u001b[0;34m,\u001b[0m \u001b[0mY\u001b[0m\u001b[0;34m)\u001b[0m\u001b[0;34m\u001b[0m\u001b[0;34m\u001b[0m\u001b[0m\n\u001b[0m",
      "\u001b[0;32m/var/folders/lc/mjy2_vc10zd7k8yny4sjghbr0000gn/T/ipykernel_31185/1604171128.py\u001b[0m in \u001b[0;36mplot_decision_boundary\u001b[0;34m(model, X, y)\u001b[0m\n\u001b[1;32m      7\u001b[0m     \u001b[0mxx\u001b[0m\u001b[0;34m,\u001b[0m \u001b[0myy\u001b[0m \u001b[0;34m=\u001b[0m \u001b[0mnp\u001b[0m\u001b[0;34m.\u001b[0m\u001b[0mmeshgrid\u001b[0m\u001b[0;34m(\u001b[0m\u001b[0mnp\u001b[0m\u001b[0;34m.\u001b[0m\u001b[0marange\u001b[0m\u001b[0;34m(\u001b[0m\u001b[0mx_min\u001b[0m\u001b[0;34m,\u001b[0m \u001b[0mx_max\u001b[0m\u001b[0;34m,\u001b[0m \u001b[0mh\u001b[0m\u001b[0;34m)\u001b[0m\u001b[0;34m,\u001b[0m \u001b[0mnp\u001b[0m\u001b[0;34m.\u001b[0m\u001b[0marange\u001b[0m\u001b[0;34m(\u001b[0m\u001b[0my_min\u001b[0m\u001b[0;34m,\u001b[0m \u001b[0my_max\u001b[0m\u001b[0;34m,\u001b[0m \u001b[0mh\u001b[0m\u001b[0;34m)\u001b[0m\u001b[0;34m)\u001b[0m\u001b[0;34m\u001b[0m\u001b[0;34m\u001b[0m\u001b[0m\n\u001b[1;32m      8\u001b[0m     \u001b[0;31m# Predict the function value for the whole grid\u001b[0m\u001b[0;34m\u001b[0m\u001b[0;34m\u001b[0m\u001b[0m\n\u001b[0;32m----> 9\u001b[0;31m     \u001b[0mZ\u001b[0m \u001b[0;34m=\u001b[0m \u001b[0mmodel\u001b[0m\u001b[0;34m(\u001b[0m\u001b[0mnp\u001b[0m\u001b[0;34m.\u001b[0m\u001b[0mc_\u001b[0m\u001b[0;34m[\u001b[0m\u001b[0mxx\u001b[0m\u001b[0;34m.\u001b[0m\u001b[0mravel\u001b[0m\u001b[0;34m(\u001b[0m\u001b[0;34m)\u001b[0m\u001b[0;34m,\u001b[0m \u001b[0myy\u001b[0m\u001b[0;34m.\u001b[0m\u001b[0mravel\u001b[0m\u001b[0;34m(\u001b[0m\u001b[0;34m)\u001b[0m\u001b[0;34m]\u001b[0m\u001b[0;34m)\u001b[0m\u001b[0;34m\u001b[0m\u001b[0;34m\u001b[0m\u001b[0m\n\u001b[0m\u001b[1;32m     10\u001b[0m     \u001b[0mZ\u001b[0m \u001b[0;34m=\u001b[0m \u001b[0mZ\u001b[0m\u001b[0;34m.\u001b[0m\u001b[0mreshape\u001b[0m\u001b[0;34m(\u001b[0m\u001b[0mxx\u001b[0m\u001b[0;34m.\u001b[0m\u001b[0mshape\u001b[0m\u001b[0;34m)\u001b[0m\u001b[0;34m\u001b[0m\u001b[0;34m\u001b[0m\u001b[0m\n\u001b[1;32m     11\u001b[0m     \u001b[0;31m# Plot the contour and training examples\u001b[0m\u001b[0;34m\u001b[0m\u001b[0;34m\u001b[0m\u001b[0m\n",
      "\u001b[0;32m/var/folders/lc/mjy2_vc10zd7k8yny4sjghbr0000gn/T/ipykernel_31185/1604171128.py\u001b[0m in \u001b[0;36m<lambda>\u001b[0;34m(x)\u001b[0m\n\u001b[1;32m     16\u001b[0m \u001b[0;34m\u001b[0m\u001b[0m\n\u001b[1;32m     17\u001b[0m \u001b[0;34m\u001b[0m\u001b[0m\n\u001b[0;32m---> 18\u001b[0;31m \u001b[0mplot_decision_boundary\u001b[0m\u001b[0;34m(\u001b[0m\u001b[0;32mlambda\u001b[0m \u001b[0mx\u001b[0m\u001b[0;34m:\u001b[0m \u001b[0mNet\u001b[0m\u001b[0;34m.\u001b[0m\u001b[0mpredict\u001b[0m\u001b[0;34m(\u001b[0m\u001b[0mx\u001b[0m\u001b[0;34m)\u001b[0m\u001b[0;34m,\u001b[0m \u001b[0mX\u001b[0m\u001b[0;34m,\u001b[0m \u001b[0mY\u001b[0m\u001b[0;34m)\u001b[0m\u001b[0;34m\u001b[0m\u001b[0;34m\u001b[0m\u001b[0m\n\u001b[0m",
      "\u001b[0;32m/var/folders/lc/mjy2_vc10zd7k8yny4sjghbr0000gn/T/ipykernel_31185/2168611059.py\u001b[0m in \u001b[0;36mpredict\u001b[0;34m(self, X)\u001b[0m\n\u001b[1;32m     79\u001b[0m \u001b[0;34m\u001b[0m\u001b[0m\n\u001b[1;32m     80\u001b[0m     \u001b[0;32mdef\u001b[0m \u001b[0mpredict\u001b[0m\u001b[0;34m(\u001b[0m\u001b[0mself\u001b[0m\u001b[0;34m,\u001b[0m \u001b[0mX\u001b[0m\u001b[0;34m)\u001b[0m\u001b[0;34m:\u001b[0m\u001b[0;34m\u001b[0m\u001b[0;34m\u001b[0m\u001b[0m\n\u001b[0;32m---> 81\u001b[0;31m         \u001b[0mhypo\u001b[0m \u001b[0;34m=\u001b[0m \u001b[0mself\u001b[0m\u001b[0;34m.\u001b[0m\u001b[0mforward_propagation\u001b[0m\u001b[0;34m(\u001b[0m\u001b[0mX\u001b[0m\u001b[0;34m)\u001b[0m\u001b[0;34m[\u001b[0m\u001b[0;34m-\u001b[0m\u001b[0;36m1\u001b[0m\u001b[0;34m]\u001b[0m\u001b[0;34m\u001b[0m\u001b[0;34m\u001b[0m\u001b[0m\n\u001b[0m\u001b[1;32m     82\u001b[0m         \u001b[0mthreshold\u001b[0m \u001b[0;34m=\u001b[0m \u001b[0;36m0\u001b[0m\u001b[0;34m\u001b[0m\u001b[0;34m\u001b[0m\u001b[0m\n\u001b[1;32m     83\u001b[0m         \u001b[0;32mif\u001b[0m\u001b[0;34m(\u001b[0m\u001b[0mself\u001b[0m\u001b[0;34m.\u001b[0m\u001b[0mactivations\u001b[0m\u001b[0;34m[\u001b[0m\u001b[0;34m-\u001b[0m\u001b[0;36m1\u001b[0m\u001b[0;34m]\u001b[0m \u001b[0;34m==\u001b[0m \u001b[0mNeuralNetwork\u001b[0m\u001b[0;34m.\u001b[0m\u001b[0msigmoid\u001b[0m\u001b[0;34m)\u001b[0m\u001b[0;34m:\u001b[0m\u001b[0;34m\u001b[0m\u001b[0;34m\u001b[0m\u001b[0m\n",
      "\u001b[0;32m/var/folders/lc/mjy2_vc10zd7k8yny4sjghbr0000gn/T/ipykernel_31185/2168611059.py\u001b[0m in \u001b[0;36mforward_propagation\u001b[0;34m(self, X, testing)\u001b[0m\n\u001b[1;32m     50\u001b[0m                 \u001b[0mprint\u001b[0m\u001b[0;34m(\u001b[0m\u001b[0mi\u001b[0m\u001b[0;34m.\u001b[0m\u001b[0mshape\u001b[0m\u001b[0;34m)\u001b[0m\u001b[0;34m\u001b[0m\u001b[0;34m\u001b[0m\u001b[0m\n\u001b[1;32m     51\u001b[0m         \u001b[0;32mfor\u001b[0m \u001b[0mi\u001b[0m \u001b[0;32min\u001b[0m \u001b[0mrange\u001b[0m\u001b[0;34m(\u001b[0m\u001b[0mself\u001b[0m\u001b[0;34m.\u001b[0m\u001b[0msize\u001b[0m \u001b[0;34m-\u001b[0m \u001b[0;36m1\u001b[0m\u001b[0;34m)\u001b[0m\u001b[0;34m:\u001b[0m\u001b[0;34m\u001b[0m\u001b[0;34m\u001b[0m\u001b[0m\n\u001b[0;32m---> 52\u001b[0;31m             \u001b[0mz\u001b[0m \u001b[0;34m=\u001b[0m \u001b[0mnp\u001b[0m\u001b[0;34m.\u001b[0m\u001b[0mdot\u001b[0m\u001b[0;34m(\u001b[0m\u001b[0mself\u001b[0m\u001b[0;34m.\u001b[0m\u001b[0mweights\u001b[0m\u001b[0;34m[\u001b[0m\u001b[0mi\u001b[0m\u001b[0;34m]\u001b[0m\u001b[0;34m,\u001b[0m \u001b[0mself\u001b[0m\u001b[0;34m.\u001b[0m\u001b[0mlayers\u001b[0m\u001b[0;34m[\u001b[0m\u001b[0mi\u001b[0m\u001b[0;34m]\u001b[0m\u001b[0;34m)\u001b[0m \u001b[0;34m+\u001b[0m \u001b[0mself\u001b[0m\u001b[0;34m.\u001b[0m\u001b[0mbiases\u001b[0m\u001b[0;34m[\u001b[0m\u001b[0mi\u001b[0m\u001b[0;34m]\u001b[0m\u001b[0;34m\u001b[0m\u001b[0;34m\u001b[0m\u001b[0m\n\u001b[0m\u001b[1;32m     53\u001b[0m             \u001b[0mself\u001b[0m\u001b[0;34m.\u001b[0m\u001b[0mlayers\u001b[0m\u001b[0;34m[\u001b[0m\u001b[0mi\u001b[0m\u001b[0;34m+\u001b[0m\u001b[0;36m1\u001b[0m\u001b[0;34m]\u001b[0m \u001b[0;34m=\u001b[0m \u001b[0mself\u001b[0m\u001b[0;34m.\u001b[0m\u001b[0mactivations\u001b[0m\u001b[0;34m[\u001b[0m\u001b[0mi\u001b[0m\u001b[0;34m]\u001b[0m\u001b[0;34m(\u001b[0m\u001b[0mz\u001b[0m\u001b[0;34m)\u001b[0m\u001b[0;34m\u001b[0m\u001b[0;34m\u001b[0m\u001b[0m\n\u001b[1;32m     54\u001b[0m         \u001b[0;32mreturn\u001b[0m \u001b[0mself\u001b[0m\u001b[0;34m.\u001b[0m\u001b[0mlayers\u001b[0m\u001b[0;34m\u001b[0m\u001b[0;34m\u001b[0m\u001b[0m\n",
      "\u001b[0;32m<__array_function__ internals>\u001b[0m in \u001b[0;36mdot\u001b[0;34m(*args, **kwargs)\u001b[0m\n",
      "\u001b[0;31mValueError\u001b[0m: shapes (4,2) and (1038240,2) not aligned: 2 (dim 1) != 1038240 (dim 0)"
     ]
    }
   ],
   "source": [
    "def plot_decision_boundary(model, X, y):\n",
    "    # Set min and max values and give it some padding\n",
    "    x_min, x_max = X[0, :].min() - 1, X[0, :].max() + 1\n",
    "    y_min, y_max = X[1, :].min() - 1, X[1, :].max() + 1\n",
    "    h = 0.01\n",
    "    # Generate a grid of points with distance h between them\n",
    "    xx, yy = np.meshgrid(np.arange(x_min, x_max, h), np.arange(y_min, y_max, h))\n",
    "    # Predict the function value for the whole grid\n",
    "    Z = model(np.c_[xx.ravel(), yy.ravel()])\n",
    "    Z = Z.reshape(xx.shape)\n",
    "    # Plot the contour and training examples\n",
    "    plt.contourf(xx, yy, Z, cmap=plt.cm.Spectral)\n",
    "    plt.ylabel('x2')\n",
    "    plt.xlabel('x1')\n",
    "    plt.scatter(X[0, :], X[1, :], c=y, cmap=plt.cm.Spectral)\n",
    "    \n",
    "\n",
    "plot_decision_boundary(lambda x: Net.predict(x), X, Y)"
   ]
  },
  {
   "cell_type": "code",
   "execution_count": 151,
   "id": "e4776c2e",
   "metadata": {},
   "outputs": [],
   "source": [
    "import sklearn\n",
    "import sklearn.datasets\n",
    "import sklearn.linear_model\n",
    "N = 200\n",
    "noisy_circles = sklearn.datasets.make_circles(n_samples=N, factor=.5, noise=.3)\n",
    "noisy_moons = sklearn.datasets.make_moons(n_samples=N, noise=.2)\n",
    "blobs = sklearn.datasets.make_blobs(n_samples=N, random_state=5, n_features=2, centers=6)\n",
    "gaussian_quantiles = sklearn.datasets.make_gaussian_quantiles(mean=None, cov=0.5, n_samples=N, n_features=2, n_classes=2, shuffle=True, random_state=None)\n",
    "no_structure = np.random.rand(N, 2), np.random.rand(N, 2)"
   ]
  },
  {
   "cell_type": "code",
   "execution_count": null,
   "id": "d88985b0",
   "metadata": {},
   "outputs": [],
   "source": [
    "model"
   ]
  }
 ],
 "metadata": {
  "kernelspec": {
   "display_name": "Python 3 (ipykernel)",
   "language": "python",
   "name": "python3"
  },
  "language_info": {
   "codemirror_mode": {
    "name": "ipython",
    "version": 3
   },
   "file_extension": ".py",
   "mimetype": "text/x-python",
   "name": "python",
   "nbconvert_exporter": "python",
   "pygments_lexer": "ipython3",
   "version": "3.9.7"
  }
 },
 "nbformat": 4,
 "nbformat_minor": 5
}
